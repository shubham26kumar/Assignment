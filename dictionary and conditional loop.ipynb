{
 "cells": [
  {
   "cell_type": "code",
   "execution_count": 1,
   "id": "e4bac8d1-24c8-4ce6-8f03-4051bde10599",
   "metadata": {},
   "outputs": [
    {
     "data": {
      "text/plain": [
       "3"
      ]
     },
     "execution_count": 1,
     "metadata": {},
     "output_type": "execute_result"
    }
   ],
   "source": [
    "1 + 2"
   ]
  },
  {
   "cell_type": "code",
   "execution_count": 2,
   "id": "6126d56f-b8b6-4753-9b4d-d5ad8d07f28b",
   "metadata": {},
   "outputs": [
    {
     "name": "stdout",
     "output_type": "stream",
     "text": [
      "this us my first program\n"
     ]
    }
   ],
   "source": [
    "print(\"this us my first program\")"
   ]
  },
  {
   "cell_type": "code",
   "execution_count": 1,
   "id": "98d2cb71-623e-4a5d-b74c-bd4c875019c4",
   "metadata": {},
   "outputs": [],
   "source": [
    "d1 = {}"
   ]
  },
  {
   "cell_type": "code",
   "execution_count": 2,
   "id": "8cdb91d6-f323-4e73-bd28-57a51c9aa667",
   "metadata": {},
   "outputs": [
    {
     "data": {
      "text/plain": [
       "dict"
      ]
     },
     "execution_count": 2,
     "metadata": {},
     "output_type": "execute_result"
    }
   ],
   "source": [
    "type(d1)"
   ]
  },
  {
   "cell_type": "code",
   "execution_count": 3,
   "id": "a6e6ea29-1370-49fe-8004-c9c3ba1479b9",
   "metadata": {},
   "outputs": [],
   "source": [
    "d2 = {'key':\"shubham\"}"
   ]
  },
  {
   "cell_type": "code",
   "execution_count": 4,
   "id": "abf6ac72-f701-411a-b5eb-16c1b162dff7",
   "metadata": {},
   "outputs": [
    {
     "data": {
      "text/plain": [
       "{'key': 'shubham'}"
      ]
     },
     "execution_count": 4,
     "metadata": {},
     "output_type": "execute_result"
    }
   ],
   "source": [
    "d2"
   ]
  },
  {
   "cell_type": "code",
   "execution_count": 5,
   "id": "3022e617-73b0-42fb-ad9b-8b6f35b8d92e",
   "metadata": {},
   "outputs": [],
   "source": [
    "d3 = {\"name\":\"shubham\",\"email\":\"sharma2000@gmail.com\",\"number\":93041}"
   ]
  },
  {
   "cell_type": "code",
   "execution_count": 6,
   "id": "09c5269f-bf1e-4079-a57c-3a7d229bd77a",
   "metadata": {},
   "outputs": [
    {
     "data": {
      "text/plain": [
       "{'name': 'shubham', 'email': 'sharma2000@gmail.com', 'number': 93041}"
      ]
     },
     "execution_count": 6,
     "metadata": {},
     "output_type": "execute_result"
    }
   ],
   "source": [
    "d3"
   ]
  },
  {
   "cell_type": "code",
   "execution_count": 17,
   "id": "19d418eb-c209-4e50-a4ef-a11ed1afdf48",
   "metadata": {},
   "outputs": [],
   "source": [
    "d4={26:\"birthdate\",'shu': \"name\",False:\"december\"}"
   ]
  },
  {
   "cell_type": "code",
   "execution_count": 18,
   "id": "e7b831d8-4c21-4b5d-b819-6c09ce3afcf6",
   "metadata": {},
   "outputs": [
    {
     "data": {
      "text/plain": [
       "{26: 'birthdate', 'shu': 'name', False: 'december'}"
      ]
     },
     "execution_count": 18,
     "metadata": {},
     "output_type": "execute_result"
    }
   ],
   "source": [
    "d4"
   ]
  },
  {
   "cell_type": "code",
   "execution_count": 19,
   "id": "2aa1997f-0c8c-4e35-aea5-d24123d9379e",
   "metadata": {},
   "outputs": [
    {
     "data": {
      "text/plain": [
       "'birthdate'"
      ]
     },
     "execution_count": 19,
     "metadata": {},
     "output_type": "execute_result"
    }
   ],
   "source": [
    "d4[26]"
   ]
  },
  {
   "cell_type": "code",
   "execution_count": 20,
   "id": "de2ae131-eec7-4a16-a420-5806fffde26a",
   "metadata": {},
   "outputs": [
    {
     "data": {
      "text/plain": [
       "'december'"
      ]
     },
     "execution_count": 20,
     "metadata": {},
     "output_type": "execute_result"
    }
   ],
   "source": [
    "d4[False]"
   ]
  },
  {
   "cell_type": "code",
   "execution_count": 23,
   "id": "6df13dea-56a6-43ae-bfac-96845e901798",
   "metadata": {},
   "outputs": [
    {
     "data": {
      "text/plain": [
       "'december'"
      ]
     },
     "execution_count": 23,
     "metadata": {},
     "output_type": "execute_result"
    }
   ],
   "source": [
    "d4[0]"
   ]
  },
  {
   "cell_type": "code",
   "execution_count": 22,
   "id": "e8db2f09-617d-4dfc-b41a-5e966eedf44d",
   "metadata": {},
   "outputs": [
    {
     "ename": "KeyError",
     "evalue": "1",
     "output_type": "error",
     "traceback": [
      "\u001b[0;31m---------------------------------------------------------------------------\u001b[0m",
      "\u001b[0;31mKeyError\u001b[0m                                  Traceback (most recent call last)",
      "Cell \u001b[0;32mIn[22], line 1\u001b[0m\n\u001b[0;32m----> 1\u001b[0m \u001b[43md4\u001b[49m\u001b[43m[\u001b[49m\u001b[38;5;241;43m1\u001b[39;49m\u001b[43m]\u001b[49m\n",
      "\u001b[0;31mKeyError\u001b[0m: 1"
     ]
    }
   ],
   "source": [
    "d4[1]"
   ]
  },
  {
   "cell_type": "code",
   "execution_count": 26,
   "id": "4e119643-4031-4d59-a02b-e948350449d5",
   "metadata": {},
   "outputs": [],
   "source": [
    "d5={'name':'shub','email_id':'sharma123@gmail.com','number':6201,'name':'saurav'}"
   ]
  },
  {
   "cell_type": "code",
   "execution_count": 27,
   "id": "4bbe6f90-b600-4359-a94d-82e6b5856137",
   "metadata": {},
   "outputs": [
    {
     "data": {
      "text/plain": [
       "{'name': 'saurav', 'email_id': 'sharma123@gmail.com', 'number': 6201}"
      ]
     },
     "execution_count": 27,
     "metadata": {},
     "output_type": "execute_result"
    }
   ],
   "source": [
    "d5"
   ]
  },
  {
   "cell_type": "code",
   "execution_count": 28,
   "id": "3c1e6f66-eff8-4e5a-8ff1-c978d00f5ed8",
   "metadata": {},
   "outputs": [
    {
     "data": {
      "text/plain": [
       "'saurav'"
      ]
     },
     "execution_count": 28,
     "metadata": {},
     "output_type": "execute_result"
    }
   ],
   "source": [
    "d5['name']"
   ]
  },
  {
   "cell_type": "code",
   "execution_count": 29,
   "id": "5290a587-b786-49fd-9728-4343aa955a28",
   "metadata": {},
   "outputs": [],
   "source": [
    "d6={\"company\":'pwskills',\"courses\":['web dev','data science', 'java with dsa system design']}"
   ]
  },
  {
   "cell_type": "code",
   "execution_count": 30,
   "id": "93a53d03-3308-40c3-8745-3379db4402b8",
   "metadata": {},
   "outputs": [
    {
     "data": {
      "text/plain": [
       "{'company': 'pwskills',\n",
       " 'courses': ['web dev', 'data science', 'java with dsa system design']}"
      ]
     },
     "execution_count": 30,
     "metadata": {},
     "output_type": "execute_result"
    }
   ],
   "source": [
    "d6"
   ]
  },
  {
   "cell_type": "code",
   "execution_count": 32,
   "id": "3a31873c-d75c-4561-af20-df24eb8c7609",
   "metadata": {},
   "outputs": [
    {
     "ename": "KeyError",
     "evalue": "'courses'",
     "output_type": "error",
     "traceback": [
      "\u001b[0;31m---------------------------------------------------------------------------\u001b[0m",
      "\u001b[0;31mKeyError\u001b[0m                                  Traceback (most recent call last)",
      "Cell \u001b[0;32mIn[32], line 1\u001b[0m\n\u001b[0;32m----> 1\u001b[0m \u001b[43md5\u001b[49m\u001b[43m[\u001b[49m\u001b[38;5;124;43m'\u001b[39;49m\u001b[38;5;124;43mcourses\u001b[39;49m\u001b[38;5;124;43m'\u001b[39;49m\u001b[43m]\u001b[49m\n",
      "\u001b[0;31mKeyError\u001b[0m: 'courses'"
     ]
    }
   ],
   "source": [
    "d5['courses']"
   ]
  },
  {
   "cell_type": "code",
   "execution_count": 35,
   "id": "f6273d43-aaaf-45cd-8bfc-835839211f32",
   "metadata": {},
   "outputs": [
    {
     "data": {
      "text/plain": [
       "['web dev', 'data science', 'java with dsa system design']"
      ]
     },
     "execution_count": 35,
     "metadata": {},
     "output_type": "execute_result"
    }
   ],
   "source": [
    "d6['courses']"
   ]
  },
  {
   "cell_type": "code",
   "execution_count": 37,
   "id": "588db86e-eca1-45da-8137-6d23a3ad7882",
   "metadata": {},
   "outputs": [
    {
     "data": {
      "text/plain": [
       "'data science'"
      ]
     },
     "execution_count": 37,
     "metadata": {},
     "output_type": "execute_result"
    }
   ],
   "source": [
    "d6['courses'][1]"
   ]
  },
  {
   "cell_type": "code",
   "execution_count": 42,
   "id": "f8a8523c-afdc-40a0-88ee-eabb26ca8841",
   "metadata": {},
   "outputs": [],
   "source": [
    "d7={\"number\":[10,20,30,40],'assignment':(3,6,9,12),\"launch_date\":{28,29,30,31,1},'class_timing':{\"web_dev\":8,\"data science masters\":8,\"java with dsa and system design\":9}}"
   ]
  },
  {
   "cell_type": "code",
   "execution_count": 43,
   "id": "7eafdb4a-42e1-4666-88c7-4bb91ab4a513",
   "metadata": {},
   "outputs": [
    {
     "data": {
      "text/plain": [
       "{'number': [10, 20, 30, 40],\n",
       " 'assignment': (3, 6, 9, 12),\n",
       " 'launch_date': {1, 28, 29, 30, 31},\n",
       " 'class_timing': {'web_dev': 8,\n",
       "  'data science masters': 8,\n",
       "  'java with dsa and system design': 9}}"
      ]
     },
     "execution_count": 43,
     "metadata": {},
     "output_type": "execute_result"
    }
   ],
   "source": [
    "d7"
   ]
  },
  {
   "cell_type": "code",
   "execution_count": 45,
   "id": "0cd2332f-e02c-45ae-8d36-94d674858e73",
   "metadata": {},
   "outputs": [
    {
     "data": {
      "text/plain": [
       "9"
      ]
     },
     "execution_count": 45,
     "metadata": {},
     "output_type": "execute_result"
    }
   ],
   "source": [
    "d7[\"class_timing\"]['java with dsa and system design']"
   ]
  },
  {
   "cell_type": "code",
   "execution_count": 46,
   "id": "356bbdb8-a88f-40f1-b824-ea6071de9cbf",
   "metadata": {},
   "outputs": [],
   "source": [
    "d7['mentor']=[\"sudhanshu\",\"krish naik\",\"anurag\",\"haider\"]"
   ]
  },
  {
   "cell_type": "code",
   "execution_count": 47,
   "id": "7eb34663-1813-4ada-8bd7-e75c5c64b9d4",
   "metadata": {},
   "outputs": [
    {
     "data": {
      "text/plain": [
       "{'number': [10, 20, 30, 40],\n",
       " 'assignment': (3, 6, 9, 12),\n",
       " 'launch_date': {1, 28, 29, 30, 31},\n",
       " 'class_timing': {'web_dev': 8,\n",
       "  'data science masters': 8,\n",
       "  'java with dsa and system design': 9},\n",
       " 'mentor': ['sudhanshu', 'krish naik', 'anurag', 'haider']}"
      ]
     },
     "execution_count": 47,
     "metadata": {},
     "output_type": "execute_result"
    }
   ],
   "source": [
    "d7"
   ]
  },
  {
   "cell_type": "code",
   "execution_count": 48,
   "id": "c2d1f5af-9a0b-4ed0-964f-8a44ca394708",
   "metadata": {},
   "outputs": [],
   "source": [
    "del d7['mentor']"
   ]
  },
  {
   "cell_type": "code",
   "execution_count": 49,
   "id": "194256f1-8d45-44ad-b775-4b008bff9d52",
   "metadata": {},
   "outputs": [
    {
     "data": {
      "text/plain": [
       "{'number': [10, 20, 30, 40],\n",
       " 'assignment': (3, 6, 9, 12),\n",
       " 'launch_date': {1, 28, 29, 30, 31},\n",
       " 'class_timing': {'web_dev': 8,\n",
       "  'data science masters': 8,\n",
       "  'java with dsa and system design': 9}}"
      ]
     },
     "execution_count": 49,
     "metadata": {},
     "output_type": "execute_result"
    }
   ],
   "source": [
    "d7"
   ]
  },
  {
   "cell_type": "code",
   "execution_count": 50,
   "id": "3c72875d-659b-4b53-b446-5eb87a42d1dd",
   "metadata": {},
   "outputs": [
    {
     "data": {
      "text/plain": [
       "dict_keys(['number', 'assignment', 'launch_date', 'class_timing'])"
      ]
     },
     "execution_count": 50,
     "metadata": {},
     "output_type": "execute_result"
    }
   ],
   "source": [
    "d7.keys()"
   ]
  },
  {
   "cell_type": "code",
   "execution_count": 51,
   "id": "c628c1bf-f9fe-42f4-9eeb-64d84ff80783",
   "metadata": {},
   "outputs": [
    {
     "data": {
      "text/plain": [
       "['number', 'assignment', 'launch_date', 'class_timing']"
      ]
     },
     "execution_count": 51,
     "metadata": {},
     "output_type": "execute_result"
    }
   ],
   "source": [
    "list(d7.keys())"
   ]
  },
  {
   "cell_type": "code",
   "execution_count": 53,
   "id": "bfda1796-2af7-47e9-bd06-4977ce883743",
   "metadata": {},
   "outputs": [
    {
     "data": {
      "text/plain": [
       "[[10, 20, 30, 40],\n",
       " (3, 6, 9, 12),\n",
       " {1, 28, 29, 30, 31},\n",
       " {'web_dev': 8,\n",
       "  'data science masters': 8,\n",
       "  'java with dsa and system design': 9}]"
      ]
     },
     "execution_count": 53,
     "metadata": {},
     "output_type": "execute_result"
    }
   ],
   "source": [
    "list(d7.values())"
   ]
  },
  {
   "cell_type": "code",
   "execution_count": 55,
   "id": "f01c4fc5-a175-49b2-af81-0a02705ce182",
   "metadata": {},
   "outputs": [
    {
     "data": {
      "text/plain": [
       "[('number', [10, 20, 30, 40]),\n",
       " ('assignment', (3, 6, 9, 12)),\n",
       " ('launch_date', {1, 28, 29, 30, 31}),\n",
       " ('class_timing',\n",
       "  {'web_dev': 8,\n",
       "   'data science masters': 8,\n",
       "   'java with dsa and system design': 9})]"
      ]
     },
     "execution_count": 55,
     "metadata": {},
     "output_type": "execute_result"
    }
   ],
   "source": [
    "list(d7.items())"
   ]
  },
  {
   "cell_type": "code",
   "execution_count": 56,
   "id": "3b9041f6-e349-467a-95e5-dd96ef27c7c1",
   "metadata": {},
   "outputs": [
    {
     "data": {
      "text/plain": [
       "(3, 6, 9, 12)"
      ]
     },
     "execution_count": 56,
     "metadata": {},
     "output_type": "execute_result"
    }
   ],
   "source": [
    "d7.pop('assignment')"
   ]
  },
  {
   "cell_type": "code",
   "execution_count": 57,
   "id": "ea823ddf-27fc-4d6e-ac00-0b5dafea5bd1",
   "metadata": {},
   "outputs": [
    {
     "data": {
      "text/plain": [
       "{'number': [10, 20, 30, 40],\n",
       " 'launch_date': {1, 28, 29, 30, 31},\n",
       " 'class_timing': {'web_dev': 8,\n",
       "  'data science masters': 8,\n",
       "  'java with dsa and system design': 9}}"
      ]
     },
     "execution_count": 57,
     "metadata": {},
     "output_type": "execute_result"
    }
   ],
   "source": [
    "d7"
   ]
  },
  {
   "cell_type": "code",
   "execution_count": 3,
   "id": "6b5600c3-4d9f-4a00-8e03-896cc012025b",
   "metadata": {},
   "outputs": [
    {
     "name": "stdin",
     "output_type": "stream",
     "text": [
      "Enter your marks :  50\n"
     ]
    },
    {
     "name": "stdout",
     "output_type": "stream",
     "text": [
      "you will be a part of a2 batch\n"
     ]
    }
   ],
   "source": [
    "marks = int(input(\"Enter your marks : \"))\n",
    "if marks >= 80 :\n",
    "    print(\"you will be a part of a0 batch\")\n",
    "elif marks >= 60 and marks< 80:\n",
    "    print(\"you will be a part of a1 batch\")\n",
    "elif marks >= 40 and marks < 60:\n",
    "    print(\"you will be a part of a2 batch\")\n",
    "else :\n",
    "    print(\"you will be a part of a3 batch\")\n",
    "    \n",
    "    \n",
    "    "
   ]
  },
  {
   "cell_type": "code",
   "execution_count": 65,
   "id": "1393e564-1c16-4051-9a1d-07ffa30bbf59",
   "metadata": {},
   "outputs": [
    {
     "data": {
      "text/plain": [
       "False"
      ]
     },
     "execution_count": 65,
     "metadata": {},
     "output_type": "execute_result"
    }
   ],
   "source": [
    "marks"
   ]
  },
  {
   "cell_type": "code",
   "execution_count": 66,
   "id": "90d5c2c1-638e-471d-ac66-3698525607ae",
   "metadata": {},
   "outputs": [
    {
     "ename": "KeyboardInterrupt",
     "evalue": "Interrupted by user",
     "output_type": "error",
     "traceback": [
      "\u001b[0;31m---------------------------------------------------------------------------\u001b[0m",
      "\u001b[0;31mKeyboardInterrupt\u001b[0m                         Traceback (most recent call last)",
      "Cell \u001b[0;32mIn[66], line 1\u001b[0m\n\u001b[0;32m----> 1\u001b[0m marks \u001b[38;5;241m=\u001b[39m \u001b[38;5;28;43minput\u001b[39;49m\u001b[43m(\u001b[49m\u001b[38;5;124;43m\"\u001b[39;49m\u001b[38;5;124;43menter your marks:\u001b[39;49m\u001b[38;5;124;43m\"\u001b[39;49m\u001b[43m)\u001b[49m\n",
      "File \u001b[0;32m/opt/conda/lib/python3.10/site-packages/ipykernel/kernelbase.py:1175\u001b[0m, in \u001b[0;36mKernel.raw_input\u001b[0;34m(self, prompt)\u001b[0m\n\u001b[1;32m   1171\u001b[0m \u001b[38;5;28;01mif\u001b[39;00m \u001b[38;5;129;01mnot\u001b[39;00m \u001b[38;5;28mself\u001b[39m\u001b[38;5;241m.\u001b[39m_allow_stdin:\n\u001b[1;32m   1172\u001b[0m     \u001b[38;5;28;01mraise\u001b[39;00m StdinNotImplementedError(\n\u001b[1;32m   1173\u001b[0m         \u001b[38;5;124m\"\u001b[39m\u001b[38;5;124mraw_input was called, but this frontend does not support input requests.\u001b[39m\u001b[38;5;124m\"\u001b[39m\n\u001b[1;32m   1174\u001b[0m     )\n\u001b[0;32m-> 1175\u001b[0m \u001b[38;5;28;01mreturn\u001b[39;00m \u001b[38;5;28;43mself\u001b[39;49m\u001b[38;5;241;43m.\u001b[39;49m\u001b[43m_input_request\u001b[49m\u001b[43m(\u001b[49m\n\u001b[1;32m   1176\u001b[0m \u001b[43m    \u001b[49m\u001b[38;5;28;43mstr\u001b[39;49m\u001b[43m(\u001b[49m\u001b[43mprompt\u001b[49m\u001b[43m)\u001b[49m\u001b[43m,\u001b[49m\n\u001b[1;32m   1177\u001b[0m \u001b[43m    \u001b[49m\u001b[38;5;28;43mself\u001b[39;49m\u001b[38;5;241;43m.\u001b[39;49m\u001b[43m_parent_ident\u001b[49m\u001b[43m[\u001b[49m\u001b[38;5;124;43m\"\u001b[39;49m\u001b[38;5;124;43mshell\u001b[39;49m\u001b[38;5;124;43m\"\u001b[39;49m\u001b[43m]\u001b[49m\u001b[43m,\u001b[49m\n\u001b[1;32m   1178\u001b[0m \u001b[43m    \u001b[49m\u001b[38;5;28;43mself\u001b[39;49m\u001b[38;5;241;43m.\u001b[39;49m\u001b[43mget_parent\u001b[49m\u001b[43m(\u001b[49m\u001b[38;5;124;43m\"\u001b[39;49m\u001b[38;5;124;43mshell\u001b[39;49m\u001b[38;5;124;43m\"\u001b[39;49m\u001b[43m)\u001b[49m\u001b[43m,\u001b[49m\n\u001b[1;32m   1179\u001b[0m \u001b[43m    \u001b[49m\u001b[43mpassword\u001b[49m\u001b[38;5;241;43m=\u001b[39;49m\u001b[38;5;28;43;01mFalse\u001b[39;49;00m\u001b[43m,\u001b[49m\n\u001b[1;32m   1180\u001b[0m \u001b[43m\u001b[49m\u001b[43m)\u001b[49m\n",
      "File \u001b[0;32m/opt/conda/lib/python3.10/site-packages/ipykernel/kernelbase.py:1217\u001b[0m, in \u001b[0;36mKernel._input_request\u001b[0;34m(self, prompt, ident, parent, password)\u001b[0m\n\u001b[1;32m   1214\u001b[0m             \u001b[38;5;28;01mbreak\u001b[39;00m\n\u001b[1;32m   1215\u001b[0m \u001b[38;5;28;01mexcept\u001b[39;00m \u001b[38;5;167;01mKeyboardInterrupt\u001b[39;00m:\n\u001b[1;32m   1216\u001b[0m     \u001b[38;5;66;03m# re-raise KeyboardInterrupt, to truncate traceback\u001b[39;00m\n\u001b[0;32m-> 1217\u001b[0m     \u001b[38;5;28;01mraise\u001b[39;00m \u001b[38;5;167;01mKeyboardInterrupt\u001b[39;00m(\u001b[38;5;124m\"\u001b[39m\u001b[38;5;124mInterrupted by user\u001b[39m\u001b[38;5;124m\"\u001b[39m) \u001b[38;5;28;01mfrom\u001b[39;00m \u001b[38;5;28mNone\u001b[39m\n\u001b[1;32m   1218\u001b[0m \u001b[38;5;28;01mexcept\u001b[39;00m \u001b[38;5;167;01mException\u001b[39;00m:\n\u001b[1;32m   1219\u001b[0m     \u001b[38;5;28mself\u001b[39m\u001b[38;5;241m.\u001b[39mlog\u001b[38;5;241m.\u001b[39mwarning(\u001b[38;5;124m\"\u001b[39m\u001b[38;5;124mInvalid Message:\u001b[39m\u001b[38;5;124m\"\u001b[39m, exc_info\u001b[38;5;241m=\u001b[39m\u001b[38;5;28;01mTrue\u001b[39;00m)\n",
      "\u001b[0;31mKeyboardInterrupt\u001b[0m: Interrupted by user"
     ]
    }
   ],
   "source": []
  },
  {
   "cell_type": "code",
   "execution_count": 2,
   "id": "af91281c-051d-442e-aa75-d101d25034cf",
   "metadata": {},
   "outputs": [
    {
     "name": "stdin",
     "output_type": "stream",
     "text": [
      "enter your marks: 87\n"
     ]
    }
   ],
   "source": [
    "marks=int(input(\"enter your marks:\"))"
   ]
  },
  {
   "cell_type": "code",
   "execution_count": 3,
   "id": "62fe664d-20e0-4e3d-9fc0-19e2289fb151",
   "metadata": {},
   "outputs": [
    {
     "data": {
      "text/plain": [
       "87"
      ]
     },
     "execution_count": 3,
     "metadata": {},
     "output_type": "execute_result"
    }
   ],
   "source": [
    "marks\n",
    "\n"
   ]
  },
  {
   "cell_type": "code",
   "execution_count": 4,
   "id": "ddd32eca-d7b6-4f26-95bd-33c0870811e3",
   "metadata": {},
   "outputs": [
    {
     "data": {
      "text/plain": [
       "int"
      ]
     },
     "execution_count": 4,
     "metadata": {},
     "output_type": "execute_result"
    }
   ],
   "source": [
    "type(marks)"
   ]
  },
  {
   "cell_type": "code",
   "execution_count": 6,
   "id": "8978be69-447d-4d57-a334-d8dc846ffe7e",
   "metadata": {},
   "outputs": [
    {
     "name": "stdin",
     "output_type": "stream",
     "text": [
      "Enter the price :  500\n"
     ]
    },
    {
     "name": "stdout",
     "output_type": "stream",
     "text": [
      "i will purchase it\n"
     ]
    }
   ],
   "source": [
    "price = int(input(\"Enter the price : \"))\n",
    "if price > 5000:\n",
    "    print(\"i will not purchase because price is too high\")\n",
    "else :\n",
    "    print(\"i will purchase it\")\n",
    "            "
   ]
  },
  {
   "cell_type": "code",
   "execution_count": 8,
   "id": "aef72c2b-5c7b-409d-9ef7-2db547b3cbc7",
   "metadata": {},
   "outputs": [
    {
     "name": "stdin",
     "output_type": "stream",
     "text": [
      "Enter the price :  500\n"
     ]
    }
   ],
   "source": [
    "price = int(input(\"Enter the price : \"))\n",
    "if price > 5000:\n",
    "    print(\"i will not purchase because price is too high\")"
   ]
  },
  {
   "cell_type": "code",
   "execution_count": 10,
   "id": "35543cb5-abb1-4bc3-8f58-bcab48c67b9d",
   "metadata": {},
   "outputs": [
    {
     "name": "stdin",
     "output_type": "stream",
     "text": [
      "Enter the price :  120000\n"
     ]
    },
    {
     "name": "stdout",
     "output_type": "stream",
     "text": [
      "i will not purchase because price is too high\n",
      "this is too high  \n"
     ]
    }
   ],
   "source": [
    "price = int(input(\"Enter the price : \"))\n",
    "if price > 5000:\n",
    "    print(\"i will not purchase because price is too high\")\n",
    "    if price > 10000:\n",
    "        print(\"this is too high  \")"
   ]
  },
  {
   "cell_type": "code",
   "execution_count": 13,
   "id": "f3367d1d-25bc-43e1-8e02-769d4bfbf61b",
   "metadata": {},
   "outputs": [
    {
     "name": "stdin",
     "output_type": "stream",
     "text": [
      "Enter the price :  500\n"
     ]
    },
    {
     "name": "stdout",
     "output_type": "stream",
     "text": [
      "i will purchae it\n"
     ]
    }
   ],
   "source": [
    "price = int(input(\"Enter the price : \"))\n",
    "if price > 5000:\n",
    "    print(\"i will not purchase because price is too high\")\n",
    "    if price > 10000:\n",
    "        print(\"this is too high  \")\n",
    "    elif price < 7000:\n",
    "        print(\"it's not that high\")\n",
    "elif price  < 5000 :\n",
    "    print(\"i will purchae it\")\n",
    "else :\n",
    "    print(\"Not interested thank you\")"
   ]
  },
  {
   "cell_type": "code",
   "execution_count": 14,
   "id": "6ac12772-5f26-480e-b056-70c30087fee0",
   "metadata": {},
   "outputs": [],
   "source": [
    "l = [25,26,27,28,29,30]"
   ]
  },
  {
   "cell_type": "code",
   "execution_count": 15,
   "id": "d4893811-5b2c-4c6f-8b35-6892dd1f321c",
   "metadata": {},
   "outputs": [
    {
     "data": {
      "text/plain": [
       "27"
      ]
     },
     "execution_count": 15,
     "metadata": {},
     "output_type": "execute_result"
    }
   ],
   "source": [
    "l[2]"
   ]
  },
  {
   "cell_type": "code",
   "execution_count": 16,
   "id": "0727f146-826d-42b8-b4db-5114dd25676f",
   "metadata": {},
   "outputs": [],
   "source": [
    "l[2]=28"
   ]
  },
  {
   "cell_type": "code",
   "execution_count": 17,
   "id": "89c23b32-758a-4993-b03c-d9e349552c9e",
   "metadata": {},
   "outputs": [
    {
     "data": {
      "text/plain": [
       "28"
      ]
     },
     "execution_count": 17,
     "metadata": {},
     "output_type": "execute_result"
    }
   ],
   "source": [
    "l[2]\n"
   ]
  },
  {
   "cell_type": "code",
   "execution_count": 18,
   "id": "65fd7ed9-e9f5-4447-b7ce-d26cc335d2e2",
   "metadata": {},
   "outputs": [
    {
     "data": {
      "text/plain": [
       "31"
      ]
     },
     "execution_count": 18,
     "metadata": {},
     "output_type": "execute_result"
    }
   ],
   "source": [
    "l[2]+3"
   ]
  },
  {
   "cell_type": "code",
   "execution_count": 21,
   "id": "cd581ae5-1f14-4470-9990-c41867ae0c8d",
   "metadata": {},
   "outputs": [
    {
     "ename": "NameError",
     "evalue": "name 'l1' is not defined",
     "output_type": "error",
     "traceback": [
      "\u001b[0;31m---------------------------------------------------------------------------\u001b[0m",
      "\u001b[0;31mNameError\u001b[0m                                 Traceback (most recent call last)",
      "Cell \u001b[0;32mIn[21], line 1\u001b[0m\n\u001b[0;32m----> 1\u001b[0m \u001b[43ml1\u001b[49m\u001b[38;5;241m.\u001b[39mappend(l[\u001b[38;5;241m2\u001b[39m]\u001b[38;5;241m+\u001b[39m\u001b[38;5;241m3\u001b[39m)\n",
      "\u001b[0;31mNameError\u001b[0m: name 'l1' is not defined"
     ]
    }
   ],
   "source": [
    "l1.append(l[2]+3)"
   ]
  },
  {
   "cell_type": "code",
   "execution_count": 20,
   "id": "f4c91f9f-3f72-48e8-ae29-a45cdea1ae5a",
   "metadata": {},
   "outputs": [
    {
     "data": {
      "text/plain": [
       "[25, 26, 28, 28, 29, 30, 31]"
      ]
     },
     "execution_count": 20,
     "metadata": {},
     "output_type": "execute_result"
    }
   ],
   "source": [
    "l"
   ]
  },
  {
   "cell_type": "code",
   "execution_count": 22,
   "id": "6f0e9a30-6e4c-4fe7-91ef-096852a790cf",
   "metadata": {},
   "outputs": [],
   "source": [
    "l1=[]"
   ]
  },
  {
   "cell_type": "code",
   "execution_count": 25,
   "id": "8986df2b-c8e8-4321-9810-72d0b0b5ed57",
   "metadata": {},
   "outputs": [],
   "source": [
    "l1.append(l[0]+3)"
   ]
  },
  {
   "cell_type": "code",
   "execution_count": 26,
   "id": "6173e391-8a3a-47ca-9f69-38dbb9e028bd",
   "metadata": {},
   "outputs": [
    {
     "data": {
      "text/plain": [
       "[31, 28]"
      ]
     },
     "execution_count": 26,
     "metadata": {},
     "output_type": "execute_result"
    }
   ],
   "source": [
    "l1"
   ]
  },
  {
   "cell_type": "code",
   "execution_count": null,
   "id": "959234dd-fc3d-472d-9b8d-e2178bd402a8",
   "metadata": {},
   "outputs": [],
   "source": [
    "l2=[]\n",
    "for i in l :\n",
    "    print(i+14)\n",
    "    l2.append(i+14)\n",
    "l2"
   ]
  },
  {
   "cell_type": "code",
   "execution_count": 29,
   "id": "6501a4e3-5ffc-4742-9df5-9ed58278a883",
   "metadata": {},
   "outputs": [
    {
     "name": "stdout",
     "output_type": "stream",
     "text": [
      "39\n",
      "40\n",
      "42\n",
      "42\n",
      "43\n",
      "44\n",
      "45\n"
     ]
    },
    {
     "data": {
      "text/plain": [
       "[39, 40, 42, 42, 43, 44, 45]"
      ]
     },
     "execution_count": 29,
     "metadata": {},
     "output_type": "execute_result"
    }
   ],
   "source": [
    "l2=[]\n",
    "for i in l :\n",
    "    print(i+14)\n",
    "    l2.append(i+14)\n",
    "l2"
   ]
  },
  {
   "cell_type": "code",
   "execution_count": 30,
   "id": "46cbdd22-b48a-4eea-bb52-3e7981d4c331",
   "metadata": {},
   "outputs": [
    {
     "data": {
      "text/plain": [
       "[25, 26, 28, 28, 29, 30, 31]"
      ]
     },
     "execution_count": 30,
     "metadata": {},
     "output_type": "execute_result"
    }
   ],
   "source": [
    "l"
   ]
  },
  {
   "cell_type": "code",
   "execution_count": 31,
   "id": "a7d0f966-3a32-4971-bff1-234ada4e62ac",
   "metadata": {},
   "outputs": [],
   "source": [
    "l3=[\"shubham\", \"satyam\", \"saurav\", \"pawan\"]"
   ]
  },
  {
   "cell_type": "code",
   "execution_count": 32,
   "id": "d3240631-9db7-416e-adb2-19b13e27a579",
   "metadata": {},
   "outputs": [
    {
     "name": "stdout",
     "output_type": "stream",
     "text": [
      "shubham\n",
      "satyam\n",
      "saurav\n",
      "pawan\n"
     ]
    }
   ],
   "source": [
    "for elements in l3:\n",
    "    print(elements)"
   ]
  },
  {
   "cell_type": "code",
   "execution_count": 35,
   "id": "564e1138-98c9-46b8-a7d3-0582572a2fcf",
   "metadata": {},
   "outputs": [
    {
     "name": "stdout",
     "output_type": "stream",
     "text": [
      "shubham\n",
      "satyam\n",
      "saurav\n",
      "pawan\n"
     ]
    }
   ],
   "source": [
    "l4=[]\n",
    "for elements in l3:\n",
    "    print(elements)\n",
    "    l4.append(elements.upper())"
   ]
  },
  {
   "cell_type": "code",
   "execution_count": 36,
   "id": "8b532853-465c-4456-845b-91b39159e8fe",
   "metadata": {},
   "outputs": [
    {
     "data": {
      "text/plain": [
       "['SHUBHAM', 'SATYAM', 'SAURAV', 'PAWAN']"
      ]
     },
     "execution_count": 36,
     "metadata": {},
     "output_type": "execute_result"
    }
   ],
   "source": [
    "l4"
   ]
  },
  {
   "cell_type": "code",
   "execution_count": 1,
   "id": "d4a778bb-87c0-41f6-a165-b5896fba5d88",
   "metadata": {},
   "outputs": [],
   "source": [
    "l = [2,4,6,8,\"shubham\",\"saurav\",123,24.125,\"suman\"]"
   ]
  },
  {
   "cell_type": "code",
   "execution_count": 5,
   "id": "b845c53b-2e52-46e3-855e-40daf303546d",
   "metadata": {},
   "outputs": [],
   "source": [
    "l1_num = []\n",
    "l2_str = []\n",
    "for elements in l :\n",
    "    if type(elements) == int or type(elements) == float :\n",
    "        l1_num.append(elements)\n",
    "    else :\n",
    "        l2_str.append(elements)    "
   ]
  },
  {
   "cell_type": "code",
   "execution_count": 6,
   "id": "c285448c-a976-4fe2-99b4-edd635dd990a",
   "metadata": {},
   "outputs": [
    {
     "data": {
      "text/plain": [
       "[2, 4, 6, 8, 123, 24.125]"
      ]
     },
     "execution_count": 6,
     "metadata": {},
     "output_type": "execute_result"
    }
   ],
   "source": [
    "l1_num"
   ]
  },
  {
   "cell_type": "code",
   "execution_count": 7,
   "id": "a4a8f19f-2530-431e-99f7-f88b8d65fed7",
   "metadata": {},
   "outputs": [
    {
     "data": {
      "text/plain": [
       "['shubham', 'saurav', 'suman']"
      ]
     },
     "execution_count": 7,
     "metadata": {},
     "output_type": "execute_result"
    }
   ],
   "source": [
    "l2_str"
   ]
  },
  {
   "cell_type": "code",
   "execution_count": null,
   "id": "b33e35ce-b5e2-45c3-9960-6b5e9b94d03b",
   "metadata": {},
   "outputs": [],
   "source": []
  }
 ],
 "metadata": {
  "kernelspec": {
   "display_name": "Python 3 (ipykernel)",
   "language": "python",
   "name": "python3"
  },
  "language_info": {
   "codemirror_mode": {
    "name": "ipython",
    "version": 3
   },
   "file_extension": ".py",
   "mimetype": "text/x-python",
   "name": "python",
   "nbconvert_exporter": "python",
   "pygments_lexer": "ipython3",
   "version": "3.10.8"
  }
 },
 "nbformat": 4,
 "nbformat_minor": 5
}
